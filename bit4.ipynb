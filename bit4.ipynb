{
 "cells": [
  {
   "cell_type": "code",
   "execution_count": null,
   "id": "c7e543c3",
   "metadata": {},
   "outputs": [],
   "source": [
    "from IPython.core.display import display, HTML\n",
    "display(HTML(\"<style>.container { width:95% !important; }</style>\"))"
   ]
  },
  {
   "cell_type": "code",
   "execution_count": null,
   "id": "e325e1a8",
   "metadata": {},
   "outputs": [],
   "source": [
    "import pandas as pd"
   ]
  },
  {
   "cell_type": "code",
   "execution_count": null,
   "id": "6929c565",
   "metadata": {},
   "outputs": [],
   "source": [
    "from pandas import DataFrame"
   ]
  },
  {
   "cell_type": "code",
   "execution_count": null,
   "id": "96c193d5",
   "metadata": {},
   "outputs": [],
   "source": [
    "from collections import Counter, OrderedDict"
   ]
  },
  {
   "cell_type": "code",
   "execution_count": null,
   "id": "a199a0de",
   "metadata": {},
   "outputs": [],
   "source": [
    "import json"
   ]
  },
  {
   "cell_type": "code",
   "execution_count": null,
   "id": "567f4b80",
   "metadata": {},
   "outputs": [],
   "source": []
  },
  {
   "cell_type": "code",
   "execution_count": null,
   "id": "8c54af41",
   "metadata": {},
   "outputs": [],
   "source": []
  },
  {
   "cell_type": "code",
   "execution_count": null,
   "id": "083b571a",
   "metadata": {},
   "outputs": [],
   "source": [
    "df4 = pd.read_csv('data.txt',sep='\\t')\n",
    "df4"
   ]
  },
  {
   "cell_type": "code",
   "execution_count": null,
   "id": "2aab083c",
   "metadata": {},
   "outputs": [],
   "source": []
  },
  {
   "cell_type": "code",
   "execution_count": null,
   "id": "c29081e3",
   "metadata": {},
   "outputs": [],
   "source": [
    "df5 = df4[df4.Freq >= 200]"
   ]
  },
  {
   "cell_type": "code",
   "execution_count": null,
   "id": "210d7caa",
   "metadata": {
    "scrolled": true
   },
   "outputs": [],
   "source": [
    "df5"
   ]
  },
  {
   "cell_type": "code",
   "execution_count": null,
   "id": "0c5d1e37",
   "metadata": {},
   "outputs": [],
   "source": []
  },
  {
   "cell_type": "markdown",
   "id": "e82a4648",
   "metadata": {},
   "source": [
    "## Visualización de resultados"
   ]
  },
  {
   "cell_type": "code",
   "execution_count": null,
   "id": "4d8d0c85",
   "metadata": {},
   "outputs": [],
   "source": []
  },
  {
   "cell_type": "code",
   "execution_count": null,
   "id": "ef3a598b",
   "metadata": {},
   "outputs": [],
   "source": [
    "df5.sort_values(by =['Freq'],ascending=False).reset_index(drop=True)"
   ]
  },
  {
   "cell_type": "code",
   "execution_count": null,
   "id": "16e8a947",
   "metadata": {},
   "outputs": [],
   "source": [
    "orden = dict(Counter(df5.Species.tolist()))"
   ]
  },
  {
   "cell_type": "code",
   "execution_count": null,
   "id": "5a26aaae",
   "metadata": {
    "scrolled": true
   },
   "outputs": [],
   "source": [
    "dat = {}\n",
    "for v in list(reversed(sorted(set(orden.values())))):\n",
    "    for x in orden:\n",
    "        if orden[x] == v:\n",
    "            print(v, x)\n",
    "            dat[x] = v"
   ]
  },
  {
   "cell_type": "code",
   "execution_count": null,
   "id": "e712fb12",
   "metadata": {
    "scrolled": true
   },
   "outputs": [],
   "source": [
    "list(dat.keys())"
   ]
  },
  {
   "cell_type": "code",
   "execution_count": null,
   "id": "62ccd8d3",
   "metadata": {},
   "outputs": [],
   "source": [
    "import numpy as np\n",
    "import matplotlib.pyplot as plt"
   ]
  },
  {
   "cell_type": "code",
   "execution_count": null,
   "id": "0004c522",
   "metadata": {},
   "outputs": [],
   "source": [
    "fig = plt.figure(figsize=(20, 5))\n",
    "\n",
    "ax = fig.add_axes([0, 0, 1, 1])\n",
    "ax.set_xlim(-1, len(dat))\n",
    "\n",
    "ax.set_title(\"Análisis de abundancia\", fontsize = 20)\n",
    "\n",
    "ax.bar(list(dat.keys()), list(dat.values()), color ='black',\n",
    "        width = 0.7)\n",
    "\n",
    "X = ax.get_yticklabels()\n",
    "\n",
    "ax.set_xlabel(\"Bacterias\", fontsize = 20)\n",
    "ax.set_ylabel(\"Frecuencia\", fontsize = 20)\n",
    "\n",
    "\n",
    "ax.set_xticklabels(list(dat.keys()), rotation = 90, ha= 'center', va = 'top', fontsize = 10, style = 'italic')\n",
    "ax.yaxis.set_tick_params(labelsize=12, rotation = 0)\n",
    "\n",
    "plt.show()"
   ]
  },
  {
   "cell_type": "code",
   "execution_count": null,
   "id": "b5ed9a7b",
   "metadata": {},
   "outputs": [],
   "source": []
  },
  {
   "cell_type": "markdown",
   "id": "3d0f7a73",
   "metadata": {},
   "source": [
    "## Normalizar la escala con logaritmo y volver a graficar"
   ]
  },
  {
   "cell_type": "code",
   "execution_count": null,
   "id": "1c225719",
   "metadata": {},
   "outputs": [],
   "source": []
  },
  {
   "cell_type": "code",
   "execution_count": null,
   "id": "20318f9b",
   "metadata": {},
   "outputs": [],
   "source": []
  },
  {
   "cell_type": "markdown",
   "id": "06a5ea89",
   "metadata": {},
   "source": [
    "### Abundancia relativa"
   ]
  },
  {
   "cell_type": "code",
   "execution_count": null,
   "id": "ec0b1c0a",
   "metadata": {},
   "outputs": [],
   "source": []
  },
  {
   "cell_type": "code",
   "execution_count": null,
   "id": "47a18884",
   "metadata": {},
   "outputs": [],
   "source": []
  },
  {
   "cell_type": "code",
   "execution_count": null,
   "id": "6d69ecd9",
   "metadata": {},
   "outputs": [],
   "source": []
  },
  {
   "cell_type": "markdown",
   "id": "a92b3f7a",
   "metadata": {},
   "source": [
    "## volver a graficar aquellas con abundancia de más del 1%"
   ]
  },
  {
   "cell_type": "code",
   "execution_count": null,
   "id": "6ef52076",
   "metadata": {},
   "outputs": [],
   "source": []
  },
  {
   "cell_type": "code",
   "execution_count": null,
   "id": "f636ae8d",
   "metadata": {},
   "outputs": [],
   "source": []
  }
 ],
 "metadata": {
  "kernelspec": {
   "display_name": "Python 3",
   "language": "python",
   "name": "python3"
  },
  "language_info": {
   "codemirror_mode": {
    "name": "ipython",
    "version": 3
   },
   "file_extension": ".py",
   "mimetype": "text/x-python",
   "name": "python",
   "nbconvert_exporter": "python",
   "pygments_lexer": "ipython3",
   "version": "3.6.7"
  }
 },
 "nbformat": 4,
 "nbformat_minor": 5
}
