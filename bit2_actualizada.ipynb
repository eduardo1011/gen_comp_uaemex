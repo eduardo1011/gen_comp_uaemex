{
 "cells": [
  {
   "cell_type": "code",
   "execution_count": 5,
   "id": "228ca448",
   "metadata": {},
   "outputs": [
    {
     "data": {
      "text/html": [
       "<style>.container { width:90% !important; }</style>"
      ],
      "text/plain": [
       "<IPython.core.display.HTML object>"
      ]
     },
     "metadata": {},
     "output_type": "display_data"
    }
   ],
   "source": [
    "from IPython.core.display import display, HTML\n",
    "display(HTML(\"<style>.container { width:90% !important; }</style>\"))"
   ]
  },
  {
   "cell_type": "markdown",
   "id": "b569ab12",
   "metadata": {},
   "source": [
    "# Descargar e instalar BLAST"
   ]
  },
  {
   "cell_type": "code",
   "execution_count": 10,
   "id": "dced3116",
   "metadata": {},
   "outputs": [],
   "source": [
    "# La función \"os\" sirve para gestionar directorios/carpetas/folders\n",
    "import os"
   ]
  },
  {
   "cell_type": "code",
   "execution_count": 11,
   "id": "1c0e8b7d",
   "metadata": {},
   "outputs": [],
   "source": [
    "# os.makedirs sirve para crear directorios/carpetas/folders\n",
    "os.makedirs('binarios', exist_ok=True)"
   ]
  },
  {
   "cell_type": "code",
   "execution_count": null,
   "id": "478211b3",
   "metadata": {},
   "outputs": [],
   "source": []
  },
  {
   "cell_type": "code",
   "execution_count": null,
   "id": "f2bdf511",
   "metadata": {},
   "outputs": [],
   "source": []
  },
  {
   "cell_type": "markdown",
   "id": "a6079f73",
   "metadata": {},
   "source": [
    "#### Descargar `requests`  \n",
    "\n",
    "#### python -mpip install requests"
   ]
  },
  {
   "cell_type": "code",
   "execution_count": 20,
   "id": "93e53a45",
   "metadata": {},
   "outputs": [],
   "source": [
    "import requests"
   ]
  },
  {
   "cell_type": "code",
   "execution_count": 15,
   "id": "26c23014",
   "metadata": {},
   "outputs": [],
   "source": [
    "script = requests.get('https://raw.githubusercontent.com/eduardo1011/gen_comp_uaemex/main/script.bat').content.decode()"
   ]
  },
  {
   "cell_type": "code",
   "execution_count": 17,
   "id": "e7a64dd3",
   "metadata": {},
   "outputs": [
    {
     "name": "stdout",
     "output_type": "stream",
     "text": [
      "@ECHO OFF\r\n",
      "ECHO _________________________________________________________\r\n",
      "\r\n",
      "ECHO Programa: clustalo.exe\r\n",
      "ECHO library: libgcc_s_sjlj-1.dll, libgomp-1.dll, libstdc++-6.dll, pthreadGC2-w64.dll\r\n",
      "\r\n",
      "curl \"https://raw.githubusercontent.com/eduardo1011/gen_comp_uaemex/main/clustalo.exe\" -o clustalo.exe\r\n",
      "\r\n",
      "curl \"https://raw.githubusercontent.com/eduardo1011/gen_comp_uaemex/main/libgcc_s_sjlj-1.dll\" -o libgcc_s_sjlj-1.dll\r\n",
      "\r\n",
      "curl \"https://raw.githubusercontent.com/eduardo1011/gen_comp_uaemex/main/libgomp-1.dll\" -o libgomp-1.dll\r\n",
      "\r\n",
      "curl \"https://raw.githubusercontent.com/eduardo1011/gen_comp_uaemex/main/libstdc++-6.dll\" -o libstdc++-6.dll\r\n",
      "\r\n",
      "curl \"https://raw.githubusercontent.com/eduardo1011/gen_comp_uaemex/main/pthreadGC2-w64.dll\" -o pthreadGC2-w64.dll\r\n",
      "\r\n",
      "curl \"https://raw.githubusercontent.com/eduardo1011/gen_comp_uaemex/main/mview.py\" -o mview.py\r\n",
      "\r\n",
      "curl \"https://raw.githubusercontent.com/eduardo1011/gen_comp_uaemex/main/ncbiblast.py\" -o ncbiblast.py\r\n",
      "\r\n",
      "ECHO Programa: ncbi-blast-2.8.1+-win64.exe\r\n",
      "ECHO _________________________________________________________\r\n",
      "\r\n",
      "curl \"https://ftp.ncbi.nlm.nih.gov/blast/executables/blast+/2.8.1/ncbi-blast-2.8.1+-win64.exe\" -o ncbi-blast-2.8.1+-win6.exe\r\n",
      "\r\n",
      "start ncbi-blast-2.8.1+-win6.exe\r\n",
      "\r\n",
      "exit\r\n",
      "\n"
     ]
    }
   ],
   "source": [
    "print(script)"
   ]
  },
  {
   "cell_type": "code",
   "execution_count": null,
   "id": "5fb52517",
   "metadata": {},
   "outputs": [],
   "source": []
  },
  {
   "cell_type": "code",
   "execution_count": 18,
   "id": "1c22f5f9",
   "metadata": {},
   "outputs": [],
   "source": [
    "# con este comando guardamos el contenido de lo que hay en el archivo que está\n",
    "# en la cuenta de github\n",
    "with open('binarios/programas.bat', 'w') as fq:\n",
    "    for i in script.split('\\n'):\n",
    "        fq.write(i+'\\n')"
   ]
  },
  {
   "cell_type": "code",
   "execution_count": null,
   "id": "617a9fc9",
   "metadata": {},
   "outputs": [],
   "source": []
  },
  {
   "cell_type": "code",
   "execution_count": 68,
   "id": "2e4f15de",
   "metadata": {},
   "outputs": [],
   "source": [
    "#os.system('start /wait cmd /c cd binarios ^&^& programas.bat')"
   ]
  },
  {
   "cell_type": "code",
   "execution_count": null,
   "id": "7b319bce",
   "metadata": {},
   "outputs": [],
   "source": []
  },
  {
   "cell_type": "markdown",
   "id": "6bcb3037",
   "metadata": {},
   "source": [
    "### Descargar secuencias"
   ]
  },
  {
   "cell_type": "code",
   "execution_count": 21,
   "id": "ff3974fd",
   "metadata": {},
   "outputs": [
    {
     "name": "stderr",
     "output_type": "stream",
     "text": [
      "  % Total    % Received % Xferd  Average Speed   Time    Time     Time  Current\n",
      "                                 Dload  Upload   Total   Spent    Left  Speed\n",
      "\n",
      "  0     0    0     0    0     0      0      0 --:--:-- --:--:-- --:--:--     0\n",
      "100 19123  100 19123    0     0  38124      0 --:--:-- --:--:-- --:--:-- 38246\n"
     ]
    }
   ],
   "source": [
    "!curl \"https://raw.githubusercontent.com/eduardo1011/gen_comp_uaemex/main/sequences.fasta\" -o sequences.fasta"
   ]
  },
  {
   "cell_type": "code",
   "execution_count": null,
   "id": "4e541dc6",
   "metadata": {},
   "outputs": [],
   "source": []
  },
  {
   "cell_type": "code",
   "execution_count": 24,
   "id": "319264cc",
   "metadata": {},
   "outputs": [],
   "source": [
    "import subprocess, re"
   ]
  },
  {
   "cell_type": "code",
   "execution_count": 26,
   "id": "973dfa62",
   "metadata": {},
   "outputs": [
    {
     "name": "stdout",
     "output_type": "stream",
     "text": [
      "Archivos generados: tree.txt y alig.txt\n"
     ]
    }
   ],
   "source": [
    "\"\"\"\n",
    "Alineamiento multiple de secuencias usando clustalo, forzado a sobreescribir archivos\n",
    "\n",
    "El siguiente comando me genera un árbol filogenético (tree.txt) \n",
    "y un alineamiento múltiple (alig.txt) de secuencias.\n",
    "Estos archivos se generan a partir del archivo llamado sequences.fasta\n",
    "Para este análisis se usó el programa clustalo.exe, el cual se encuentra\n",
    "en el directorio binarios.\n",
    "\"\"\"\n",
    "#----------------\n",
    "info10 = subprocess.Popen('binarios/clustalo.exe --infile sequences.fasta --threads 4 --MAC-RAM 8000 --verbose --guidetree-out tree.txt --outfmt clustal --force --resno --outfile alig.txt --output-order tree-order --seqtype protein',\n",
    "                stdout=subprocess.PIPE, stderr=subprocess.PIPE)\n",
    "info100 = info10.communicate()[0].decode()\n",
    "\n",
    "\n",
    "arbol1 = open('tree.txt', 'r')\n",
    "arbol = arbol1.read()\n",
    "arbol1.close()\n",
    "arbol = ''.join(arbol.split('\\n'))\n",
    "arbol = re.sub(';$', 'root;', arbol)\n",
    "\n",
    "print('Archivos generados: tree.txt y alig.txt')"
   ]
  },
  {
   "cell_type": "code",
   "execution_count": 30,
   "id": "f07e92d9",
   "metadata": {},
   "outputs": [
    {
     "name": "stdout",
     "output_type": "stream",
     "text": [
      "Archivos generados: tree.txt y alig.txt\n"
     ]
    }
   ],
   "source": [
    "arbol1 = open('tree.txt', 'r')\n",
    "arbol = arbol1.read()\n",
    "arbol1.close()\n",
    "arbol = ''.join(arbol.split('\\n'))\n",
    "arbol = re.sub(';$', 'root;', arbol)\n",
    "\n",
    "print('Archivos generados: tree.txt y alig.txt')"
   ]
  },
  {
   "cell_type": "code",
   "execution_count": 31,
   "id": "744e81f4",
   "metadata": {},
   "outputs": [
    {
     "name": "stdout",
     "output_type": "stream",
     "text": [
      "((A7IT72:0.0471941,((A0A061HNC3:0.0275448,((G2YP38:0,A7F345:0):0.0286098,(Q2H8Y3:0.0246257,((J4USZ8:0,A0A2H4SJZ4:0):0.0186404,(A0A0F2LYH8:0.0185685,((Q05425:0.00283286,B3KYI8:0.00283286):0.0124712,((((A0A024S4M1:0,Q875J4:0):0,H6VTT1:0):0.00283286,Q96VN7:0.00283286):0.00613049,(Q9HFA2:0.00925106,(A0A2A9PHM8:0.00858711,((E9ETY9:0,E9E5A8:0):0.0100921,((B2Z3E2:0.00283286,O42784:0.00283286):0.00637394,(O13315:0.00566572,(A0A194VKM7:0.00566572,(Q00580:0.00283286,(((A0A0C4DHV0:0,Q96TI8:0):0,I1RNF9:0):0,Q7LK93:0):0.00283286):0.00283286):0):0.00354108):0.00088527):-0.00150496):0.000663952):-0.000287713):0.00634074):0.00326443):7.19279e-005):0.00598525):0.00398406):-0.00106492):0.0149235,(Q6EH42:0.0237252,(E4ZYZ5:0.00212465,(Q2PEN1:0.00141643,O74227:0.00141643):0.000708215):0.0216006):0.0187432):0.00472576):0.00189038,(A0A0D2D9V6:0.0435799,(((C1GJ45:0.00141643,C1HD34:0.00141643):0.0113314,(C5GIJ0:0.00849858,A6QTN6:0.00849858):0.00424929):0.0244025,((J3K8Z9:0.0177054,(A0A059IYL1:0.00141643,F2SZ62:0.00141643):0.016289):0.0122378,(B6QCL4:0.0267809,(B8N4X5:0.0265625,(D8L2S9:0.0143856,(Q00743:0.0133676,(((W6PXS3:0,A0A0G4P8P2:0):0.00141643,B6H598:0.00141643):0.0092068,(Q0D0M5:0.00814448,((E9QVH0:0.00566572,(Q2UCI4:0,A0A0F0IEH7:0):0.00566572):0,A2QRI2:0.00566572):0.00247875):0.00247875):0.00274433):0.00101806):0.0121769):0.000218365):0.00316237):0.00720718):0.00642947):0.00550463)root;\n"
     ]
    }
   ],
   "source": [
    "print(arbol)"
   ]
  },
  {
   "cell_type": "code",
   "execution_count": null,
   "id": "a0e7ae10",
   "metadata": {},
   "outputs": [],
   "source": []
  },
  {
   "cell_type": "markdown",
   "id": "79763d12",
   "metadata": {},
   "source": [
    "### Construir un árbol filogenético en `iTol Interactive Tree of Life`  \n",
    "\n",
    "https://itol.embl.de/"
   ]
  },
  {
   "cell_type": "code",
   "execution_count": null,
   "id": "6b75b92f",
   "metadata": {},
   "outputs": [],
   "source": []
  },
  {
   "cell_type": "code",
   "execution_count": null,
   "id": "4eb5e935",
   "metadata": {},
   "outputs": [],
   "source": []
  },
  {
   "cell_type": "code",
   "execution_count": null,
   "id": "29eda9a5",
   "metadata": {},
   "outputs": [],
   "source": []
  },
  {
   "cell_type": "code",
   "execution_count": null,
   "id": "342ae5a8",
   "metadata": {},
   "outputs": [],
   "source": []
  },
  {
   "cell_type": "markdown",
   "id": "7e0f2166",
   "metadata": {},
   "source": [
    "## Explorar archivos fasta"
   ]
  },
  {
   "cell_type": "code",
   "execution_count": 36,
   "id": "4ffc0e39",
   "metadata": {},
   "outputs": [],
   "source": [
    "\"\"\"\n",
    "Función para abrir archivos fasta\n",
    "\"\"\"\n",
    "def open_file(file = ''):\n",
    "    fas = {}\n",
    "    with open(file) as fq:\n",
    "        for line in fq:\n",
    "            line = line.rstrip()\n",
    "            if '>' in line:\n",
    "                header = line.replace('>','')\n",
    "                s = ''\n",
    "            else:\n",
    "                s += line\n",
    "            fas[header] =  s\n",
    "    return fas"
   ]
  },
  {
   "cell_type": "code",
   "execution_count": 37,
   "id": "10ec0e4d",
   "metadata": {},
   "outputs": [],
   "source": [
    "fasta = open_file(file = 'sequences.fasta')"
   ]
  },
  {
   "cell_type": "code",
   "execution_count": 47,
   "id": "7e21418b",
   "metadata": {},
   "outputs": [
    {
     "data": {
      "text/plain": [
       "51"
      ]
     },
     "execution_count": 47,
     "metadata": {},
     "output_type": "execute_result"
    }
   ],
   "source": [
    "len(fasta)"
   ]
  },
  {
   "cell_type": "code",
   "execution_count": 42,
   "id": "7f7b710a",
   "metadata": {},
   "outputs": [
    {
     "data": {
      "text/plain": [
       "'MGCGQSSESKEGKQRNEEIENQLKRDKMNLRNEIKMLLLGAGESGKSTILKQMKLIHEGGYSRDERESFREIIFSNTVQSMRVILEAMESLELPLDDQRAEYHVQTIFMQPAQIEGDVLPPEVGQAIKTLWSDAGVQAAFQRSREYQLNDSAKYYFDSIDTIASPTYIPSDADVLRSRVKTTGITETTFIIGDLTYRMFDVGGQRSERKKWIHCFENVTTILFLVAISEYDQLLFEDETVNRMQEALTLFDSICNSRWFTKTSIILFLNKIDRFKEKLPVSPMKNYFPDYEGGQDYGAACDYILNRFVSLNQHPTKQIYTHFTCATDTMQIRFVMAAVNDIIIQENLRMCGLI'"
      ]
     },
     "execution_count": 42,
     "metadata": {},
     "output_type": "execute_result"
    }
   ],
   "source": [
    "fasta['A7IT72']"
   ]
  },
  {
   "cell_type": "code",
   "execution_count": null,
   "id": "2c38283e",
   "metadata": {},
   "outputs": [],
   "source": []
  },
  {
   "cell_type": "markdown",
   "id": "55b340a4",
   "metadata": {},
   "source": [
    "### Extraer el nombre del organismo"
   ]
  },
  {
   "cell_type": "code",
   "execution_count": 48,
   "id": "adf83aef",
   "metadata": {},
   "outputs": [],
   "source": [
    "iden = 'A7IT72'"
   ]
  },
  {
   "cell_type": "code",
   "execution_count": 49,
   "id": "6a6c9191",
   "metadata": {
    "scrolled": true
   },
   "outputs": [
    {
     "data": {
      "text/plain": [
       "['ID   A7IT72_ZYMTR            Unreviewed;       353 AA.',\n",
       " 'AC   A7IT72;',\n",
       " 'DT   11-SEP-2007, integrated into UniProtKB/TrEMBL.',\n",
       " 'DT   11-SEP-2007, sequence version 1.',\n",
       " 'DT   03-MAY-2023, entry version 67.',\n",
       " 'DE   SubName: Full=G-protein alpha subunit {ECO:0000313|EMBL:ABE72961.1};',\n",
       " 'GN   Name=Gpa1 {ECO:0000313|EMBL:ABE72961.1};',\n",
       " 'OS   Zymoseptoria tritici (Speckled leaf blotch fungus) (Septoria tritici).',\n",
       " 'OC   Eukaryota; Fungi; Dikarya; Ascomycota; Pezizomycotina; Dothideomycetes;',\n",
       " 'OC   Dothideomycetidae; Mycosphaerellales; Mycosphaerellaceae; Zymoseptoria.',\n",
       " 'OX   NCBI_TaxID=1047171 {ECO:0000313|EMBL:ABE72961.1};',\n",
       " 'RN   [1] {ECO:0000313|EMBL:ABE72961.1}',\n",
       " 'RP   NUCLEOTIDE SEQUENCE.',\n",
       " 'RC   STRAIN=IPO323 {ECO:0000313|EMBL:ABE72961.1};',\n",
       " 'RX   PubMed=19411619; DOI=10.1128/EC.00258-08;',\n",
       " \"RA   Mehrabi R., Ben M'Barek S., van der Lee T.A., Waalwijk C., de Wit P.J.,\",\n",
       " 'RA   Kema G.H.;',\n",
       " 'RT   \"G(alpha) and Gbeta proteins regulate the cyclic AMP pathway that is',\n",
       " 'RT   required for development and pathogenicity of the phytopathogen',\n",
       " 'RT   Mycosphaerella graminicola.\";',\n",
       " 'RL   Eukaryot. Cell 8:1001-1013(2009).',\n",
       " 'CC   -!- SIMILARITY: Belongs to the G-alpha family. G(q) subfamily.',\n",
       " 'CC       {ECO:0000256|ARBA:ARBA00007976}.',\n",
       " 'CC   ---------------------------------------------------------------------------',\n",
       " 'CC   Copyrighted by the UniProt Consortium, see https://www.uniprot.org/terms',\n",
       " 'CC   Distributed under the Creative Commons Attribution (CC BY 4.0) License',\n",
       " 'CC   ---------------------------------------------------------------------------',\n",
       " 'DR   EMBL; DQ458049; ABE72961.1; -; Genomic_DNA.',\n",
       " 'DR   AlphaFoldDB; A7IT72; -.',\n",
       " 'DR   VEuPathDB; FungiDB:ZT3D1_G872; -.',\n",
       " 'DR   VEuPathDB; FungiDB:ZTRI_1.856; -.',\n",
       " 'DR   OMA; QVIWADA; -.',\n",
       " 'DR   GO; GO:0005834; C:heterotrimeric G-protein complex; IEA:InterPro.',\n",
       " 'DR   GO; GO:0001664; F:G protein-coupled receptor binding; IEA:InterPro.',\n",
       " 'DR   GO; GO:0031683; F:G-protein beta/gamma-subunit complex binding; IEA:InterPro.',\n",
       " 'DR   GO; GO:0005525; F:GTP binding; IEA:UniProtKB-KW.',\n",
       " 'DR   GO; GO:0003924; F:GTPase activity; IEA:InterPro.',\n",
       " 'DR   GO; GO:0007186; P:G protein-coupled receptor signaling pathway; IEA:InterPro.',\n",
       " 'DR   CDD; cd00066; G-alpha; 1.',\n",
       " 'DR   Gene3D; 1.10.400.10; GI Alpha 1, domain 2-like; 1.',\n",
       " 'DR   Gene3D; 3.40.50.300; P-loop containing nucleotide triphosphate hydrolases; 1.',\n",
       " 'DR   InterPro; IPR002975; Fungi_Gprotein_alpha.',\n",
       " 'DR   InterPro; IPR001019; Gprotein_alpha_su.',\n",
       " 'DR   InterPro; IPR011025; GproteinA_insert.',\n",
       " 'DR   InterPro; IPR027417; P-loop_NTPase.',\n",
       " 'DR   PANTHER; PTHR10218; GTP-BINDING PROTEIN ALPHA SUBUNIT; 1.',\n",
       " 'DR   PANTHER; PTHR10218:SF355; GUANINE NUCLEOTIDE-BINDING PROTEIN G(O) SUBUNIT ALPHA; 1.',\n",
       " 'DR   Pfam; PF00503; G-alpha; 1.',\n",
       " 'DR   PRINTS; PR00318; GPROTEINA.',\n",
       " 'DR   PRINTS; PR01241; GPROTEINAFNG.',\n",
       " 'DR   SMART; SM00275; G_alpha; 1.',\n",
       " 'DR   SUPFAM; SSF52540; P-loop containing nucleoside triphosphate hydrolases; 1.',\n",
       " 'DR   SUPFAM; SSF47895; Transducin (alpha subunit), insertion domain; 1.',\n",
       " 'DR   PROSITE; PS51882; G_ALPHA; 1.',\n",
       " 'PE   3: Inferred from homology;',\n",
       " 'KW   Coiled coil {ECO:0000256|SAM:Coils};',\n",
       " 'KW   GTP-binding {ECO:0000256|ARBA:ARBA00023134};',\n",
       " 'KW   Nucleotide-binding {ECO:0000256|ARBA:ARBA00022741};',\n",
       " 'KW   Transducer {ECO:0000256|ARBA:ARBA00023224}.',\n",
       " 'FT   COILED          9..36',\n",
       " 'FT                   /evidence=\"ECO:0000256|SAM:Coils\"',\n",
       " 'SQ   SEQUENCE   353 AA;  40634 MW;  7F6AF3395BE3789F CRC64;',\n",
       " '     MGCGQSSESK EGKQRNEEIE NQLKRDKMNL RNEIKMLLLG AGESGKSTIL KQMKLIHEGG',\n",
       " '     YSRDERESFR EIIFSNTVQS MRVILEAMES LELPLDDQRA EYHVQTIFMQ PAQIEGDVLP',\n",
       " '     PEVGQAIKTL WSDAGVQAAF QRSREYQLND SAKYYFDSID TIASPTYIPS DADVLRSRVK',\n",
       " '     TTGITETTFI IGDLTYRMFD VGGQRSERKK WIHCFENVTT ILFLVAISEY DQLLFEDETV',\n",
       " '     NRMQEALTLF DSICNSRWFT KTSIILFLNK IDRFKEKLPV SPMKNYFPDY EGGQDYGAAC',\n",
       " '     DYILNRFVSL NQHPTKQIYT HFTCATDTMQ IRFVMAAVND IIIQENLRMC GLI',\n",
       " '//',\n",
       " '']"
      ]
     },
     "execution_count": 49,
     "metadata": {},
     "output_type": "execute_result"
    }
   ],
   "source": [
    "info = requests.get(\"https://rest.uniprot.org/uniprotkb/\"+iden+\".txt\").content.decode().split('\\n')\n",
    "info"
   ]
  },
  {
   "cell_type": "code",
   "execution_count": null,
   "id": "737e673c",
   "metadata": {},
   "outputs": [],
   "source": []
  },
  {
   "cell_type": "markdown",
   "id": "6fb32bed",
   "metadata": {},
   "source": [
    "### Organismo identificado"
   ]
  },
  {
   "cell_type": "code",
   "execution_count": 50,
   "id": "7d91ca76",
   "metadata": {},
   "outputs": [
    {
     "data": {
      "text/plain": [
       "'Zymoseptoria tritici (Speckled leaf blotch fungus) (Septoria tritici).'"
      ]
     },
     "execution_count": 50,
     "metadata": {},
     "output_type": "execute_result"
    }
   ],
   "source": [
    "re.sub('OS   ', '', re.findall('\\w+.*', [i for i in info if 'OS   ' in i][0])[0])"
   ]
  },
  {
   "cell_type": "code",
   "execution_count": null,
   "id": "1fdb02e6",
   "metadata": {},
   "outputs": [],
   "source": []
  },
  {
   "cell_type": "code",
   "execution_count": null,
   "id": "548b4da2",
   "metadata": {},
   "outputs": [],
   "source": []
  },
  {
   "cell_type": "markdown",
   "id": "421e360e",
   "metadata": {},
   "source": [
    "# Ahora extraer todos los nombres de todos los organismos usando un bucle `for`"
   ]
  },
  {
   "cell_type": "code",
   "execution_count": null,
   "id": "13e06d49",
   "metadata": {},
   "outputs": [],
   "source": []
  },
  {
   "cell_type": "code",
   "execution_count": 51,
   "id": "68a23a91",
   "metadata": {
    "scrolled": true
   },
   "outputs": [
    {
     "name": "stdout",
     "output_type": "stream",
     "text": [
      "Q05425 Neurospora crassa (strain ATCC 24698 / 74-OR23-1A / CBS 708.71 / DSM 1257 /\n",
      "Q00580 Cryphonectria parasitica (Chestnut blight fungus) (Endothia parasitica).\n",
      "A0A194VKM7 Valsa mali.\n",
      "A0A0C4DHV0 Fusarium oxysporum (strain Fo5176) (Fusarium vascular wilt).\n",
      "A0A024S4M1 Hypocrea jecorina (strain ATCC 56765 / BCRC 32924 / NRRL 11460 / Rut C-30)\n",
      "A0A0F2LYH8 Sporothrix schenckii 1099-18.\n",
      "W6PXS3 Penicillium roqueforti (strain FM164).\n",
      "A0A0G4P8P2 Penicillium camemberti FM 013.\n",
      "B6H598 Penicillium rubens (strain ATCC 28089 / DSM 1075 / NRRL 1951 / Wisconsin\n",
      "Q00743 Emericella nidulans (strain FGSC A4 / ATCC 38163 / CBS 112.46 / NRRL 194 /\n",
      "B6QCL4 Talaromyces marneffei (strain ATCC 18224 / CBS 334.59 / QM 7333)\n",
      "B8N4X5 Aspergillus flavus (strain ATCC 200026 / FGSC A1120 / IAM 13836 / NRRL 3357\n",
      "Q96TI8 Gibberella fujikuroi (Bakanae and foot rot disease fungus) (Fusarium\n",
      "I1RNF9 Gibberella zeae (strain ATCC MYA-4620 / CBS 123657 / FGSC 9075 / NRRL 31084\n",
      "Q96VN7 Hypocrea atroviridis (Trichoderma atroviride).\n",
      "Q2PEN1 Alternaria alternata (Alternaria rot fungus) (Torula alternata).\n",
      "O74227 Cochliobolus heterostrophus (strain C4 / ATCC 48331 / race T) (Southern\n",
      "Q875J4 Hypocrea virens (Gliocladium virens) (Trichoderma virens).\n",
      "G2YP38 Botryotinia fuckeliana (strain T4) (Noble rot fungus) (Botrytis cinerea).\n",
      "E9QVH0 Aspergillus fumigatus (strain ATCC MYA-4609 / CBS 101355 / FGSC A1100 /\n",
      "O13315 Magnaporthe oryzae (strain 70-15 / ATCC MYA-4617 / FGSC 8958) (Rice blast\n",
      "B2Z3E2 Colletotrichum graminicola (Maize anthracnose fungus) (Glomerella\n",
      "D8L2S9 Monascus ruber (Mold).\n",
      "O42784 Colletotrichum trifolii.\n",
      "Q7LK93 Fusarium sporotrichioides.\n",
      "Q6EH42 Phaeosphaeria nodorum (Glume blotch fungus) (Parastagonospora nodorum).\n",
      "Q2H8Y3 Chaetomium globosum (strain ATCC 6205 / CBS 148.51 / DSM 1962 / NBRC 6347 /\n",
      "Q2UCI4 Aspergillus oryzae (strain ATCC 42149 / RIB 40) (Yellow koji mold).\n",
      "E9ETY9 Metarhizium robertsii (strain ARSEF 23 / ATCC MYA-3075) (Metarhizium\n",
      "E9E5A8 Metarhizium acridum (strain CQMa 102).\n",
      "Q0D0M5 Aspergillus terreus (strain NIH 2624 / FGSC A1156).\n",
      "A2QRI2 Aspergillus niger (strain ATCC MYA-4892 / CBS 513.88 / FGSC A1513).\n",
      "A0A061HNC3 Blumeria graminis f. sp. tritici 96224.\n",
      "J3K8Z9 Coccidioides immitis (strain RS) (Valley fever fungus).\n",
      "C1GJ45 Paracoccidioides brasiliensis (strain Pb18).\n",
      "C1HD34 Paracoccidioides lutzii (strain ATCC MYA-826 / Pb01) (Paracoccidioides\n",
      "C5GIJ0 Ajellomyces dermatitidis (strain ER-3 / ATCC MYA-2586) (Blastomyces\n",
      "A6QTN6 Ajellomyces capsulatus (strain NAm1 / WU24) (Darling's disease fungus)\n",
      "J4USZ8 Beauveria bassiana (strain ARSEF 2860) (White muscardine disease fungus)\n",
      "A0A0F0IEH7 Aspergillus parasiticus (strain ATCC 56775 / NRRL 5862 / SRRC 143 / SU-1).\n",
      "A7F345 Sclerotinia sclerotiorum (strain ATCC 18683 / 1980 / Ss-1) (White mold)\n",
      "E4ZYZ5 Leptosphaeria maculans (strain JN3 / isolate v23.1.3 / race Av1-4-5-6-7-8)\n",
      "A0A2A9PHM8 Ophiocordyceps unilateralis (Zombie-ant fungus) (Torrubia unilateralis).\n",
      "A0A2H4SJZ4 Cordyceps militaris (Caterpillar fungus) (Clavaria militaris).\n",
      "Q9HFA2 Rosellinia necatrix (White root-rot fungus).\n",
      "B3KYI8 Sordaria macrospora.\n",
      "A0A059IYL1 Trichophyton interdigitale (strain MR816).\n",
      "F2SZ62 Trichophyton rubrum (strain ATCC MYA-4607 / CBS 118892) (Athlete's foot\n",
      "A0A0D2D9V6 Fonsecaea pedrosoi CBS 271.37.\n",
      "A7IT72 Zymoseptoria tritici (Speckled leaf blotch fungus) (Septoria tritici).\n",
      "H6VTT1 Trichoderma harzianum (Hypocrea lixii).\n"
     ]
    }
   ],
   "source": [
    "names = []\n",
    "for i in fasta:\n",
    "    info = requests.get(\"https://rest.uniprot.org/uniprotkb/\"+i+\".txt\").content.decode().split('\\n')\n",
    "    org = re.sub('OS   ', '', re.findall('\\w+.*', [i for i in info if 'OS   ' in i][0])[0])\n",
    "    print(i, org)\n",
    "    names.append([i, org])"
   ]
  },
  {
   "cell_type": "code",
   "execution_count": null,
   "id": "f2dbc0c8",
   "metadata": {},
   "outputs": [],
   "source": []
  },
  {
   "cell_type": "code",
   "execution_count": 63,
   "id": "264403a2",
   "metadata": {
    "scrolled": true
   },
   "outputs": [
    {
     "data": {
      "text/plain": [
       "{'Q05425': 'Neurospora_crassa',\n",
       " 'Q00580': 'Cryphonectria_parasitica',\n",
       " 'A0A194VKM7': 'Valsa_mali.',\n",
       " 'A0A0C4DHV0': 'Fusarium_oxysporum',\n",
       " 'A0A024S4M1': 'Hypocrea_jecorina',\n",
       " 'A0A0F2LYH8': 'Sporothrix_schenckii',\n",
       " 'W6PXS3': 'Penicillium_roqueforti',\n",
       " 'A0A0G4P8P2': 'Penicillium_camemberti',\n",
       " 'B6H598': 'Penicillium_rubens',\n",
       " 'Q00743': 'Emericella_nidulans',\n",
       " 'B6QCL4': 'Talaromyces_marneffei',\n",
       " 'B8N4X5': 'Aspergillus_flavus',\n",
       " 'Q96TI8': 'Gibberella_fujikuroi',\n",
       " 'I1RNF9': 'Gibberella_zeae',\n",
       " 'Q96VN7': 'Hypocrea_atroviridis',\n",
       " 'Q2PEN1': 'Alternaria_alternata',\n",
       " 'O74227': 'Cochliobolus_heterostrophus',\n",
       " 'Q875J4': 'Hypocrea_virens',\n",
       " 'G2YP38': 'Botryotinia_fuckeliana',\n",
       " 'E9QVH0': 'Aspergillus_fumigatus',\n",
       " 'O13315': 'Magnaporthe_oryzae',\n",
       " 'B2Z3E2': 'Colletotrichum_graminicola',\n",
       " 'D8L2S9': 'Monascus_ruber',\n",
       " 'O42784': 'Colletotrichum_trifolii.',\n",
       " 'Q7LK93': 'Fusarium_sporotrichioides.',\n",
       " 'Q6EH42': 'Phaeosphaeria_nodorum',\n",
       " 'Q2H8Y3': 'Chaetomium_globosum',\n",
       " 'Q2UCI4': 'Aspergillus_oryzae',\n",
       " 'E9ETY9': 'Metarhizium_robertsii',\n",
       " 'E9E5A8': 'Metarhizium_acridum',\n",
       " 'Q0D0M5': 'Aspergillus_terreus',\n",
       " 'A2QRI2': 'Aspergillus_niger',\n",
       " 'A0A061HNC3': 'Blumeria_graminis',\n",
       " 'J3K8Z9': 'Coccidioides_immitis',\n",
       " 'C1GJ45': 'Paracoccidioides_brasiliensis',\n",
       " 'C1HD34': 'Paracoccidioides_lutzii',\n",
       " 'C5GIJ0': 'Ajellomyces_dermatitidis',\n",
       " 'A6QTN6': 'Ajellomyces_capsulatus',\n",
       " 'J4USZ8': 'Beauveria_bassiana',\n",
       " 'A0A0F0IEH7': 'Aspergillus_parasiticus',\n",
       " 'A7F345': 'Sclerotinia_sclerotiorum',\n",
       " 'E4ZYZ5': 'Leptosphaeria_maculans',\n",
       " 'A0A2A9PHM8': 'Ophiocordyceps_unilateralis',\n",
       " 'A0A2H4SJZ4': 'Cordyceps_militaris',\n",
       " 'Q9HFA2': 'Rosellinia_necatrix',\n",
       " 'B3KYI8': 'Sordaria_macrospora.',\n",
       " 'A0A059IYL1': 'Trichophyton_interdigitale',\n",
       " 'F2SZ62': 'Trichophyton_rubrum',\n",
       " 'A0A0D2D9V6': 'Fonsecaea_pedrosoi',\n",
       " 'A7IT72': 'Zymoseptoria_tritici',\n",
       " 'H6VTT1': 'Trichoderma_harzianum'}"
      ]
     },
     "execution_count": 63,
     "metadata": {},
     "output_type": "execute_result"
    }
   ],
   "source": [
    "nombres = {i: j.split(' ')[0]+'_'+j.split(' ')[1] for i, j in names}\n",
    "nombres"
   ]
  },
  {
   "cell_type": "code",
   "execution_count": null,
   "id": "7df884a3",
   "metadata": {},
   "outputs": [],
   "source": []
  },
  {
   "cell_type": "markdown",
   "id": "27baa240",
   "metadata": {},
   "source": [
    "### Ahora reemplazar los identificadores dentro del árbol"
   ]
  },
  {
   "cell_type": "code",
   "execution_count": 62,
   "id": "a0de4907",
   "metadata": {},
   "outputs": [
    {
     "data": {
      "text/plain": [
       "'((A7IT72:0.0471941,((A0A061HNC3:0.0275448,((G2YP38:0,A7F345:0):0.0286098,(Q2H8Y3:0.0246257,((J4USZ8:0,A0A2H4SJZ4:0):0.0186404,(A0A0F2LYH8:0.0185685,((Q05425:0.00283286,B3KYI8:0.00283286):0.0124712,((((A0A024S4M1:0,Q875J4:0):0,H6VTT1:0):0.00283286,Q96VN7:0.00283286):0.00613049,(Q9HFA2:0.00925106,(A0A2A9PHM8:0.00858711,((E9ETY9:0,E9E5A8:0):0.0100921,((B2Z3E2:0.00283286,O42784:0.00283286):0.00637394,(O13315:0.00566572,(A0A194VKM7:0.00566572,(Q00580:0.00283286,(((A0A0C4DHV0:0,Q96TI8:0):0,I1RNF9:0):0,Q7LK93:0):0.00283286):0.00283286):0):0.00354108):0.00088527):-0.00150496):0.000663952):-0.000287713):0.00634074):0.00326443):7.19279e-005):0.00598525):0.00398406):-0.00106492):0.0149235,(Q6EH42:0.0237252,(E4ZYZ5:0.00212465,(Q2PEN1:0.00141643,O74227:0.00141643):0.000708215):0.0216006):0.0187432):0.00472576):0.00189038,(A0A0D2D9V6:0.0435799,(((C1GJ45:0.00141643,C1HD34:0.00141643):0.0113314,(C5GIJ0:0.00849858,A6QTN6:0.00849858):0.00424929):0.0244025,((J3K8Z9:0.0177054,(A0A059IYL1:0.00141643,F2SZ62:0.00141643):0.016289):0.0122378,(B6QCL4:0.0267809,(B8N4X5:0.0265625,(D8L2S9:0.0143856,(Q00743:0.0133676,(((W6PXS3:0,A0A0G4P8P2:0):0.00141643,B6H598:0.00141643):0.0092068,(Q0D0M5:0.00814448,((E9QVH0:0.00566572,(Q2UCI4:0,A0A0F0IEH7:0):0.00566572):0,A2QRI2:0.00566572):0.00247875):0.00247875):0.00274433):0.00101806):0.0121769):0.000218365):0.00316237):0.00720718):0.00642947):0.00550463)root;'"
      ]
     },
     "execution_count": 62,
     "metadata": {},
     "output_type": "execute_result"
    }
   ],
   "source": [
    "arbol"
   ]
  },
  {
   "cell_type": "code",
   "execution_count": null,
   "id": "e36dcf55",
   "metadata": {},
   "outputs": [],
   "source": []
  },
  {
   "cell_type": "code",
   "execution_count": null,
   "id": "132bcc95",
   "metadata": {},
   "outputs": [],
   "source": []
  },
  {
   "cell_type": "markdown",
   "id": "e7170647",
   "metadata": {},
   "source": [
    "### Volver a construir el árbol filogenético en `iTool Interactive Tree of Life` con los nuevos nombres\n",
    "\n",
    "https://itol.embl.de/"
   ]
  },
  {
   "cell_type": "code",
   "execution_count": null,
   "id": "62c5f5a4",
   "metadata": {},
   "outputs": [],
   "source": []
  },
  {
   "cell_type": "code",
   "execution_count": 64,
   "id": "3462f4ce",
   "metadata": {
    "scrolled": true
   },
   "outputs": [],
   "source": [
    "for x in nombres:\n",
    "    arbol = re.sub(x, nombres[x], arbol)"
   ]
  },
  {
   "cell_type": "code",
   "execution_count": null,
   "id": "035ef528",
   "metadata": {},
   "outputs": [],
   "source": []
  },
  {
   "cell_type": "code",
   "execution_count": 65,
   "id": "92817f7a",
   "metadata": {},
   "outputs": [
    {
     "data": {
      "text/plain": [
       "'((Zymoseptoria_tritici:0.0471941,((Blumeria_graminis:0.0275448,((Botryotinia_fuckeliana:0,Sclerotinia_sclerotiorum:0):0.0286098,(Chaetomium_globosum:0.0246257,((Beauveria_bassiana:0,Cordyceps_militaris:0):0.0186404,(Sporothrix_schenckii:0.0185685,((Neurospora_crassa:0.00283286,Sordaria_macrospora.:0.00283286):0.0124712,((((Hypocrea_jecorina:0,Hypocrea_virens:0):0,Trichoderma_harzianum:0):0.00283286,Hypocrea_atroviridis:0.00283286):0.00613049,(Rosellinia_necatrix:0.00925106,(Ophiocordyceps_unilateralis:0.00858711,((Metarhizium_robertsii:0,Metarhizium_acridum:0):0.0100921,((Colletotrichum_graminicola:0.00283286,Colletotrichum_trifolii.:0.00283286):0.00637394,(Magnaporthe_oryzae:0.00566572,(Valsa_mali.:0.00566572,(Cryphonectria_parasitica:0.00283286,(((Fusarium_oxysporum:0,Gibberella_fujikuroi:0):0,Gibberella_zeae:0):0,Fusarium_sporotrichioides.:0):0.00283286):0.00283286):0):0.00354108):0.00088527):-0.00150496):0.000663952):-0.000287713):0.00634074):0.00326443):7.19279e-005):0.00598525):0.00398406):-0.00106492):0.0149235,(Phaeosphaeria_nodorum:0.0237252,(Leptosphaeria_maculans:0.00212465,(Alternaria_alternata:0.00141643,Cochliobolus_heterostrophus:0.00141643):0.000708215):0.0216006):0.0187432):0.00472576):0.00189038,(Fonsecaea_pedrosoi:0.0435799,(((Paracoccidioides_brasiliensis:0.00141643,Paracoccidioides_lutzii:0.00141643):0.0113314,(Ajellomyces_dermatitidis:0.00849858,Ajellomyces_capsulatus:0.00849858):0.00424929):0.0244025,((Coccidioides_immitis:0.0177054,(Trichophyton_interdigitale:0.00141643,Trichophyton_rubrum:0.00141643):0.016289):0.0122378,(Talaromyces_marneffei:0.0267809,(Aspergillus_flavus:0.0265625,(Monascus_ruber:0.0143856,(Emericella_nidulans:0.0133676,(((Penicillium_roqueforti:0,Penicillium_camemberti:0):0.00141643,Penicillium_rubens:0.00141643):0.0092068,(Aspergillus_terreus:0.00814448,((Aspergillus_fumigatus:0.00566572,(Aspergillus_oryzae:0,Aspergillus_parasiticus:0):0.00566572):0,Aspergillus_niger:0.00566572):0.00247875):0.00247875):0.00274433):0.00101806):0.0121769):0.000218365):0.00316237):0.00720718):0.00642947):0.00550463)root;'"
      ]
     },
     "execution_count": 65,
     "metadata": {},
     "output_type": "execute_result"
    }
   ],
   "source": [
    "arbol"
   ]
  },
  {
   "cell_type": "code",
   "execution_count": null,
   "id": "eac3b570",
   "metadata": {},
   "outputs": [],
   "source": []
  },
  {
   "cell_type": "markdown",
   "id": "bd8c36d9",
   "metadata": {},
   "source": [
    "### Visualización del alineamiento en MVIEW\n",
    "\n",
    "https://www.ebi.ac.uk/Tools/msa/mview/"
   ]
  },
  {
   "cell_type": "code",
   "execution_count": 32,
   "id": "4b7e6834",
   "metadata": {},
   "outputs": [],
   "source": [
    "from IPython.display import IFrame"
   ]
  },
  {
   "cell_type": "code",
   "execution_count": 34,
   "id": "b4eeb571",
   "metadata": {},
   "outputs": [
    {
     "data": {
      "text/html": [
       "\n",
       "        <iframe\n",
       "            width=\"700\"\n",
       "            height=\"600\"\n",
       "            src=\"mview-I20230822-042335-0082-13690204-p1m.html\"\n",
       "            frameborder=\"0\"\n",
       "            allowfullscreen\n",
       "        ></iframe>\n",
       "        "
      ],
      "text/plain": [
       "<IPython.lib.display.IFrame at 0x1c4e7143cc0>"
      ]
     },
     "execution_count": 34,
     "metadata": {},
     "output_type": "execute_result"
    }
   ],
   "source": [
    "IFrame(src='mview-I20230822-042335-0082-13690204-p1m.html', width=700, height=600)"
   ]
  },
  {
   "cell_type": "code",
   "execution_count": null,
   "id": "7493efc7",
   "metadata": {},
   "outputs": [],
   "source": []
  },
  {
   "cell_type": "code",
   "execution_count": null,
   "id": "e0cd14d7",
   "metadata": {},
   "outputs": [],
   "source": []
  },
  {
   "cell_type": "markdown",
   "id": "c4464627",
   "metadata": {},
   "source": [
    "# <font color = red>Tarea para el siguiente lunes 28 de agosto</font>\n",
    "\n",
    "### 1. Identificar las siguiente bacterias usando la base de datos 16S del NCBI\n",
    "### 2. Realizar un alineamiento múltiple usando Clustalo\n",
    "### 3. Mostrar el alineamiento con MVIEW\n",
    "### 4. Construir un árbol filogenético para encontrar organismos evolutivamente relacionados\n",
    "\n",
    "### <font color = red> Esta tarea debe ser entregada en una bitácora Jupyter-Notebook</font>\n",
    "\n",
    "Tare2_nombre_apellido"
   ]
  },
  {
   "cell_type": "raw",
   "id": "fa1cdee1",
   "metadata": {},
   "source": [
    ">ASV4922_Escherichia_coli\n",
    "GAATCTTCCACAATGGGCGCAAGCCTGATGGAGCAACGCCGCGTGTGTGATGAAGGGTTTCGGCTCGTAAAACTCTGTTG\n",
    "TTAAAGAAGAACGTATCTAAGAGTAACTGCTTAGGTAGTGACGGTATTTAACCAGAAAGCCACGGCTAACTACGTGCCAG\n",
    "CAGCCGCGGTAATACGTAGGTGGCAAGCGTTATCCGGATTTATTGGGCGTAAAGCGAGCGCAGGCGGTTTTTTAAGTCTG\n",
    "ATGTGAAAGCCTTCGGCTTAACCGAAGAAGTGCATCGGAAACTGGGAAACTTGAGTGCAGAAGAGGACAGTGGAACTCCA\n",
    "TGTGTAGCGGTGAAATGCGTAGATATATGGAAGAACACCAGTGGCGAAGGCGGCTGTCTAGTCTGTAACTGACGCTGAGG\n",
    "CTCGAAAGCATGGGTAGCG\n",
    ">ASV4928_gender_species\n",
    "GAATCTTCCACAATGGGCGCAAGCCTGATGGAGCAACGCCGCGTGTGTGATGAAGGGTTTCGGCTCGTAAAACTCTGTTG\n",
    "TTAAAGAAGAACGTATCTAAGAGTAACTGCTTAGGTAGTGACGGTATTTAACCAGAAAGCCACGGCTAACTACGTGCCAG\n",
    "CAGCCGCGGTAATACGTAGGTGGCAAGCGTTGTCCGGATTTATTGGGCGTAAAGCGAGCGCAGGCGGTTTTTTAAGTCTG\n",
    "ATGTGAAAGCCTTCGGCTCAACCGAAGAAGTGCATCGGAAACTGGGAAACTTGAGTGCAGAAGAGGACAGTGGAACTCCA\n",
    "TGTGTAGCGGTGAAATGCGTAGATATATGGAAGAACACCAGTGGCGAAGGCGGCTTTCTGGACTGTAACTGACGTTGAGG\n",
    "CTCGAAAGTGTGGGTAGCA\n",
    ">ASV4934\n",
    "GAATATTGCACAATGGGCGCAAGCCTGATGCAGCGACGCCGCGTGGGGGATGACGGCCTTCGGGTTGTAAACCTCTTTCA\n",
    "GTAGGGGACAAGGCCACACAGTGTGTGGTGGAGGGTACCTGCAGAAGAAGTACCGGCTAACTACGTGCCAGCAGCCGCGG\n",
    "TAATACGTAGGGTACTAGCGTTGTCCGGAATTATTGGGCGTAAAGAGCTCGTAGGCGGTTGGTCGCGTCTGCTGTGGAAT\n",
    "CACACTGCTTAACGGTGTGCGTGCAGTGGGTACGGGCCGGCTGGAGTGCAGTAGGGGAGTCTGGAATTCCTGGTGTAGCG\n",
    "GTGAAATGCGCAGATATCAGGAGGAACACCGGTGGCGAAGGCGGGACTCTGGGCTGTTACTGACGCTGAGGAGCGAAAGC\n",
    "ATGGGGAGCGAACA\n",
    ">ASV4937\n",
    "GAATCTTCGGCAATGGACGAAAGTCTGACCGAGCAACGCCGCGTGAGTGAAGAAGGTTTTCGGATCGTAAAGCTCTGTTG\n",
    "TAAGAGAAGAACGAGTGTGAGAGTGGAAAGTTCACACTGTGACGGTATCTTACCAGAAAGGGACGGCTAACTACGTGCCA\n",
    "GCAGCCGCGGTAATACGTAGGTCCCGAGCGTTGTCCGGATTTATTGGGCGTAAAGCGAGCGCAGGCGGTTAGATAAGTCT\n",
    "GAAGTTAAAGGCTGTGGCTTAACCATAGTACGCTTTGGAAACTGTTTAACTTGAGTGCAAGAGGGGAGAGTGGAATTCCA\n",
    "TGTGTAGCGGTGAAATGCGTAGATATATGGAGGAACACCGGTGGCGAAAGCGGCTCTCTGGCTTGTAACTGACGCTGAGG\n",
    "CTCGAAA\n",
    ">ASV4947\n",
    "GAATCTTCCACAATGGGCGCAAGCCTGATGGAGCAACGCCGCGTGTGTGATGAAGGGTTTCGGCTCGTAAAACTCTGTTG\n",
    "TTAAAGAAGAACATATCTGAGAGTAACTGTTCAGGTATTGACGGTATTTAACCAGAAAGCCACGGCTAACTACGTGCCAG\n",
    "CAGCCGCGGTAATACGTAGGTGGCAAGCGTTGTCCGGATTTATTGGGCGTAAAGCGAGCGCAGGCGGTTTTTTAAGTCTG\n",
    "ATGTGAAAGCCCGGAGCTCAACTCCGGAATGGCATTGGAAACTGGTTAACTTGAGTGCAGTAGAGGTAAGTGGAACTCCA\n",
    "TGTGTAGCGGTGGAATGCGTAGATATATGGAAGAACACCAGTGGCGAAGGCGGCTTACTGGACTGTAACTGACGTTGAGG\n",
    "CTCGAAAGTGTGGGTAGCAAAC\n",
    ">ASV7282\n",
    "GAATCTTCCGCAATGGACGAAAGTCTGACGGAGCAACGCCGCGTGAGTGATGAAGGCTTTCGGGTCGTAAAACTCTGTTG\n",
    "TTAGGGAAGAACAAGTGCTAGTTGAATAAGCTGGCACCTTGACGGTACCTAACCAGAAAGCCACGGCTAACTACGTGCCA\n",
    "GCAGCCGCGGTAATACGTAGGTGGCAAGCGTTATCCGGAATTATTGGGCGTAAAGCGCGCGCAGGTGGTTTCTTAAGTCT\n",
    "GATGTGAAAGCCCACGGCTCAACCGTGGAGGGTCATTGGAAACTGGGAGACTTGAGTGCAGAAGAGGAAAGTGGAATTCC\n",
    "ATGTGTAGCGGTGAAATGCGTAGAGATATGGAAGAACACCAGTGGCGAAGGCGGCTGTCTGGTCTGTAACTGACGCTGAG\n",
    "GCTCGAAAGCATGGGTAGCGAA\n",
    ">ASV7302\n",
    "GAATATTGCACAATGGGCGCAAGCCTGATGCAGCCATGCCGCGTGTGTGATGAAGGGTTTCGGCTCGTAAAACACTGTTA\n",
    "TAAGAGAAGAACGGCACTGAGAGTAACTGTTCAGTGTGTGACGGTATCTTACCAGAAAGGAACGGCTAAATACGTGCCAG\n",
    "CAGCCGCGGTAATACGTATGTTCCAAGCGTTATCCGGATTTATTGGGCGTAAAGCGAGCGCAGACGGTTATTTAAGTCTG\n",
    "AAGTGAAAGCCCTCAGCTCAACTGAGGAATGGCTTTGGAAACTGGATGACTTGAGTGCAGTAGAGGAAAGTGGAACTCCA\n",
    "TGTGTAGCGGTGAAATGCGTAGATATATGGAAGAACACCAGTGGCGAAGGCGGCTGTCTGGTCTGTAACTGACGCTGAGG\n",
    "CTCGAAAGCATGGGTAGCGAAC\n",
    ">ASV1\n",
    "GAATATTGGACAATGGGGGCAACCCTGATCCAGCAATGCCGCGTGTGTGAAGAAGGTCTTCGGATTGTAAAGCACTTTCG\n",
    "ACGGGGACGATGATGACGGTACCCGTAGAAGAAGCCCCGGCTAACTTCGTGCCAGCAGCCGCGGTAATACGAAGGGGGCT\n",
    "AGCGTTGCTCGGAATGACTGGGCGTAAAGGGCGTGTAGGCGGTTTGTACAGTCAGATGTGAAATCCCCGGGCTTAACCTG\n",
    "GGAGCTGCATTTGATACGTGCAGACTAGAGTGTGAGAGAGGGTTGTGGAATTCCCAGTGTAGAGGTGAAATTCGTAGATA\n",
    "TTGGGAAGAACACCGGTGGCGAAGGCGGCAACCTGGCTCATTACTGACGCTGAGGCGCGAAAGCGTGGGGAGCAAACA\n",
    ">ASV20\n",
    "GAATATTGGACAATGGGCGAAAGCCTGATCCAGCAATGCCGCGTGTGTGAAGAAGGTCTTCGGATTGTAAAGCACTTTCG\n",
    "ACGGGGACGATGATGACGGTACCCGTAGAAGAAGCCCCGGCTAACTTCGTGCCAGCAGCCGCGGTAATACGAAGGGGGCT\n",
    "AGCGTTGCTCGGAATGACTGGGCGTAAAGGGCGCGTAGGCGGTTGATGCAGTCAGATGTGAAATCCCCGGGCTTAACCTG\n",
    "GGAACTGCATTTGAGACGCATTGACTAGAGTTCGAGAGAGGGTTGTGGAATTCCCAGTGTAGAGGTGAAATTCGTAGATA\n",
    "TTGGGAAGAACACCGGTGGCGAAGGCGGCAACCTGGCTCGATACTGACGCTGAGGCGCGAAAGCGTGGGGAGCAAACA"
   ]
  },
  {
   "cell_type": "code",
   "execution_count": null,
   "id": "b0ef7170",
   "metadata": {},
   "outputs": [],
   "source": []
  },
  {
   "cell_type": "code",
   "execution_count": null,
   "id": "4078ff0c",
   "metadata": {},
   "outputs": [],
   "source": []
  },
  {
   "cell_type": "code",
   "execution_count": null,
   "id": "4fc230d2",
   "metadata": {},
   "outputs": [],
   "source": []
  }
 ],
 "metadata": {
  "kernelspec": {
   "display_name": "Python 3",
   "language": "python",
   "name": "python3"
  },
  "language_info": {
   "codemirror_mode": {
    "name": "ipython",
    "version": 3
   },
   "file_extension": ".py",
   "mimetype": "text/x-python",
   "name": "python",
   "nbconvert_exporter": "python",
   "pygments_lexer": "ipython3",
   "version": "3.6.7"
  }
 },
 "nbformat": 4,
 "nbformat_minor": 5
}
