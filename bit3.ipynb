{
 "cells": [
  {
   "cell_type": "code",
   "execution_count": null,
   "id": "f530260b",
   "metadata": {},
   "outputs": [],
   "source": [
    "from IPython.core.display import display, HTML\n",
    "display(HTML(\"<style>.container { width:90% !important; }</style>\"))"
   ]
  },
  {
   "cell_type": "code",
   "execution_count": null,
   "id": "544b710e",
   "metadata": {},
   "outputs": [],
   "source": [
    "from datetime import datetime"
   ]
  },
  {
   "cell_type": "code",
   "execution_count": null,
   "id": "e0bb5e3e",
   "metadata": {},
   "outputs": [],
   "source": [
    "def time_ini():\n",
    "    return datetime.now()\n",
    "def time_fin(i):\n",
    "    tim = datetime.now() - i\n",
    "    return 'Time: {}'.format(tim).split('.')[0]"
   ]
  },
  {
   "cell_type": "code",
   "execution_count": null,
   "id": "e248a3da",
   "metadata": {},
   "outputs": [],
   "source": []
  },
  {
   "cell_type": "code",
   "execution_count": null,
   "id": "cb406e72",
   "metadata": {},
   "outputs": [],
   "source": []
  },
  {
   "cell_type": "code",
   "execution_count": null,
   "id": "de85ed0f",
   "metadata": {},
   "outputs": [],
   "source": [
    "import subprocess\n",
    "\n",
    "# descargar el módulo Pandas\n",
    "import pandas as pd"
   ]
  },
  {
   "cell_type": "code",
   "execution_count": null,
   "id": "7b099f34",
   "metadata": {},
   "outputs": [],
   "source": []
  },
  {
   "cell_type": "markdown",
   "id": "b9269d4d",
   "metadata": {},
   "source": [
    "### Descargar la base (rdp_species_assignment_18.fa.gz) de datos 16S a partir de RDP taxonomic:\n",
    "\n",
    "https://zenodo.org/record/4310151"
   ]
  },
  {
   "cell_type": "markdown",
   "id": "a58b44eb",
   "metadata": {},
   "source": [
    "### Descomprimir el archivo .gz"
   ]
  },
  {
   "cell_type": "code",
   "execution_count": null,
   "id": "18039fe1",
   "metadata": {},
   "outputs": [],
   "source": []
  },
  {
   "cell_type": "code",
   "execution_count": null,
   "id": "b3310472",
   "metadata": {},
   "outputs": [],
   "source": []
  },
  {
   "cell_type": "code",
   "execution_count": null,
   "id": "9183e6f7",
   "metadata": {},
   "outputs": [],
   "source": []
  },
  {
   "cell_type": "markdown",
   "id": "62e71e66",
   "metadata": {},
   "source": [
    "### Construir una base de datos"
   ]
  },
  {
   "cell_type": "code",
   "execution_count": null,
   "id": "a43772bc",
   "metadata": {},
   "outputs": [],
   "source": []
  },
  {
   "cell_type": "code",
   "execution_count": null,
   "id": "e1292946",
   "metadata": {},
   "outputs": [],
   "source": [
    "subprocess.call('makeblastdb -in DB/rdp_species_assignment_18.fa -dbtype nucl -parse_seqids -out DB/species_16S', shell = True)"
   ]
  },
  {
   "cell_type": "code",
   "execution_count": null,
   "id": "bddba73c",
   "metadata": {},
   "outputs": [],
   "source": []
  },
  {
   "cell_type": "markdown",
   "id": "1be3a2d8",
   "metadata": {},
   "source": [
    "### Correr Blastn localmente"
   ]
  },
  {
   "cell_type": "code",
   "execution_count": null,
   "id": "74500ff9",
   "metadata": {},
   "outputs": [],
   "source": []
  },
  {
   "cell_type": "code",
   "execution_count": null,
   "id": "2eb9035f",
   "metadata": {},
   "outputs": [],
   "source": [
    "init = time_ini()\n",
    "#---------------\n",
    "subprocess.call('blastn -db DB/species_16S -query bacterias.fasta -evalue 1E-6 -outfmt \"6 qacc sacc qlen slen length qstart qend sstart send score bitscore evalue pident nident mismatch positive gaps gapopen\" -max_target_seqs 1000 -max_hsps 1000 -out resultado.txt', shell = True)   \n",
    "#----------------\n",
    "time_fin(i = init)"
   ]
  },
  {
   "cell_type": "code",
   "execution_count": null,
   "id": "53f53fcd",
   "metadata": {},
   "outputs": [],
   "source": []
  },
  {
   "cell_type": "markdown",
   "id": "787063bb",
   "metadata": {},
   "source": [
    "### Abrimos los resultados del blastn"
   ]
  },
  {
   "cell_type": "code",
   "execution_count": null,
   "id": "9f488e77",
   "metadata": {},
   "outputs": [],
   "source": []
  },
  {
   "cell_type": "code",
   "execution_count": null,
   "id": "9f2048f2",
   "metadata": {},
   "outputs": [],
   "source": [
    "columna=[\"qacc\", \"sacc\", \"qlen\", \"slen\", \"length\", \"qstart\", \"qend\", \"sstart\", \"send\", \"score\", \"bitscore\", \"evalue\", \"pident\", \"nident\", \"mismatch\", \"positive\", \"gaps\", \"gapopen\"]"
   ]
  },
  {
   "cell_type": "code",
   "execution_count": null,
   "id": "ec8f51a1",
   "metadata": {},
   "outputs": [],
   "source": [
    "df = pd.read_csv('resultado.txt',sep='\\t',names=columna)\n",
    "df"
   ]
  },
  {
   "cell_type": "code",
   "execution_count": null,
   "id": "1207d675",
   "metadata": {},
   "outputs": [],
   "source": []
  },
  {
   "cell_type": "code",
   "execution_count": null,
   "id": "515e1b60",
   "metadata": {},
   "outputs": [],
   "source": [
    "\"\"\"\n",
    "Función para abrir archivos fasta\n",
    "\"\"\"\n",
    "def open_file(file = ''):\n",
    "    fas = {}\n",
    "    with open(file) as fq:\n",
    "        for line in fq:\n",
    "            line = line.rstrip()\n",
    "            if '>' in line:\n",
    "                header = line.replace('>','')\n",
    "                s = ''\n",
    "            else:\n",
    "                s += line\n",
    "            fas[header] =  s\n",
    "    return fas"
   ]
  },
  {
   "cell_type": "code",
   "execution_count": null,
   "id": "abc03c5e",
   "metadata": {},
   "outputs": [],
   "source": []
  },
  {
   "cell_type": "code",
   "execution_count": null,
   "id": "020c1351",
   "metadata": {},
   "outputs": [],
   "source": [
    "fasta = open_file(file = 'DB/rdp_species_assignment_18.fa')"
   ]
  },
  {
   "cell_type": "code",
   "execution_count": null,
   "id": "4410a81d",
   "metadata": {},
   "outputs": [],
   "source": []
  },
  {
   "cell_type": "code",
   "execution_count": null,
   "id": "b38ad7d2",
   "metadata": {},
   "outputs": [],
   "source": [
    "nombres = {}\n",
    "for i in fasta.keys():\n",
    "    i = i.split(' ')\n",
    "    nombres[i[0]] = i[1]"
   ]
  },
  {
   "cell_type": "code",
   "execution_count": null,
   "id": "32dd47cd",
   "metadata": {},
   "outputs": [],
   "source": []
  },
  {
   "cell_type": "code",
   "execution_count": null,
   "id": "f281bf39",
   "metadata": {},
   "outputs": [],
   "source": [
    "nombres"
   ]
  },
  {
   "cell_type": "code",
   "execution_count": null,
   "id": "0107d95f",
   "metadata": {},
   "outputs": [],
   "source": []
  },
  {
   "cell_type": "code",
   "execution_count": null,
   "id": "bf2389dd",
   "metadata": {},
   "outputs": [],
   "source": [
    "df['Species'] = [nombres[i] for i in df.sacc]"
   ]
  },
  {
   "cell_type": "code",
   "execution_count": null,
   "id": "34c73e40",
   "metadata": {},
   "outputs": [],
   "source": [
    "df"
   ]
  },
  {
   "cell_type": "code",
   "execution_count": null,
   "id": "e41ec8eb",
   "metadata": {},
   "outputs": [],
   "source": []
  },
  {
   "cell_type": "code",
   "execution_count": null,
   "id": "b7652c94",
   "metadata": {},
   "outputs": [],
   "source": []
  },
  {
   "cell_type": "code",
   "execution_count": null,
   "id": "52b3e906",
   "metadata": {},
   "outputs": [],
   "source": [
    "from collections import Counter, OrderedDict"
   ]
  },
  {
   "cell_type": "code",
   "execution_count": null,
   "id": "a8feadef",
   "metadata": {},
   "outputs": [],
   "source": [
    "df.qacc.unique()"
   ]
  },
  {
   "cell_type": "code",
   "execution_count": null,
   "id": "40347694",
   "metadata": {
    "scrolled": true
   },
   "outputs": [],
   "source": [
    "df1 = df[df.qacc == 'ASV1'].reset_index(drop = True)"
   ]
  },
  {
   "cell_type": "code",
   "execution_count": null,
   "id": "8245b257",
   "metadata": {},
   "outputs": [],
   "source": [
    "orden = dict(Counter(df1.Species.tolist()))\n",
    "orden"
   ]
  },
  {
   "cell_type": "code",
   "execution_count": null,
   "id": "40a9d221",
   "metadata": {},
   "outputs": [],
   "source": [
    "for i in list(reversed(sorted(set(orden.values())))):\n",
    "    for x in orden:\n",
    "        if orden[x] == i:\n",
    "            print(i, x)"
   ]
  },
  {
   "cell_type": "code",
   "execution_count": null,
   "id": "46728b4a",
   "metadata": {},
   "outputs": [],
   "source": []
  },
  {
   "cell_type": "code",
   "execution_count": null,
   "id": "852a40bc",
   "metadata": {},
   "outputs": [],
   "source": []
  },
  {
   "cell_type": "code",
   "execution_count": null,
   "id": "41296999",
   "metadata": {},
   "outputs": [],
   "source": []
  },
  {
   "cell_type": "code",
   "execution_count": null,
   "id": "de143537",
   "metadata": {},
   "outputs": [],
   "source": [
    "for i in df.qacc.unique():\n",
    "    df1 = df[df.qacc == i].reset_index(drop = True)\n",
    "    orden = dict(Counter(df1.Species.tolist()))\n",
    "    \n",
    "    k = []\n",
    "    for v in list(reversed(sorted(set(orden.values())))):\n",
    "        for x in orden:\n",
    "            if orden[x] == v:\n",
    "                k.append([v, x])\n",
    "                \n",
    "    print(i, k[0])"
   ]
  },
  {
   "cell_type": "code",
   "execution_count": null,
   "id": "28736d32",
   "metadata": {},
   "outputs": [],
   "source": []
  },
  {
   "cell_type": "code",
   "execution_count": null,
   "id": "c21b2285",
   "metadata": {},
   "outputs": [],
   "source": []
  },
  {
   "cell_type": "code",
   "execution_count": null,
   "id": "d385e48f",
   "metadata": {},
   "outputs": [],
   "source": []
  },
  {
   "cell_type": "code",
   "execution_count": null,
   "id": "dd84f1db",
   "metadata": {},
   "outputs": [],
   "source": []
  },
  {
   "cell_type": "markdown",
   "id": "c70d32fc",
   "metadata": {},
   "source": [
    "### Contra la base de datos 16S_ribosomal_RNA del NCBI"
   ]
  },
  {
   "cell_type": "code",
   "execution_count": null,
   "id": "3ce5dbeb",
   "metadata": {},
   "outputs": [],
   "source": []
  },
  {
   "cell_type": "code",
   "execution_count": null,
   "id": "ff348f20",
   "metadata": {},
   "outputs": [],
   "source": [
    "init = time_ini()\n",
    "#---------------\n",
    "subprocess.call('blastn -db DB/16S_ribosomal_RNA -query bacterias.fasta -evalue 1E-6 -outfmt \"6 qacc sacc qlen slen length qstart qend sstart send score bitscore evalue pident nident mismatch positive gaps gapopen\" -max_target_seqs 1000 -max_hsps 1000 -out resultado2.txt', shell = True)   \n",
    "#----------------\n",
    "time_fin(i = init)"
   ]
  },
  {
   "cell_type": "code",
   "execution_count": null,
   "id": "d79add38",
   "metadata": {},
   "outputs": [],
   "source": []
  },
  {
   "cell_type": "code",
   "execution_count": null,
   "id": "0f3b2216",
   "metadata": {},
   "outputs": [],
   "source": [
    "df2 = pd.read_csv('resultado2.txt',sep='\\t',names=columna)\n",
    "df2"
   ]
  },
  {
   "cell_type": "code",
   "execution_count": null,
   "id": "3fee39c5",
   "metadata": {},
   "outputs": [],
   "source": [
    "len(df2.sacc), len(df2.sacc.unique())"
   ]
  },
  {
   "cell_type": "code",
   "execution_count": null,
   "id": "42d62654",
   "metadata": {},
   "outputs": [],
   "source": []
  },
  {
   "cell_type": "code",
   "execution_count": null,
   "id": "ab8c12a3",
   "metadata": {},
   "outputs": [],
   "source": [
    "subprocess.call('blastdbcmd -db DB/16S_ribosomal_RNA -entry all', shell = True)"
   ]
  },
  {
   "cell_type": "code",
   "execution_count": null,
   "id": "c0a5eaa0",
   "metadata": {},
   "outputs": [],
   "source": []
  },
  {
   "cell_type": "code",
   "execution_count": null,
   "id": "67db83b2",
   "metadata": {},
   "outputs": [],
   "source": [
    "rec = []\n",
    "for i in df2.sacc.unique()[:5]:\n",
    "    info10 = subprocess.Popen('blastdbcmd -db DB/16S_ribosomal_RNA -entry ' + i,\n",
    "                    stdout=subprocess.PIPE, stderr=subprocess.PIPE)\n",
    "    info100 = info10.communicate()[0].decode()\n",
    "    rec.append(info100)"
   ]
  },
  {
   "cell_type": "code",
   "execution_count": null,
   "id": "43441ae4",
   "metadata": {},
   "outputs": [],
   "source": []
  },
  {
   "cell_type": "code",
   "execution_count": null,
   "id": "f863a03a",
   "metadata": {
    "scrolled": true
   },
   "outputs": [],
   "source": [
    "rec"
   ]
  },
  {
   "cell_type": "code",
   "execution_count": null,
   "id": "9d234b33",
   "metadata": {},
   "outputs": [],
   "source": []
  }
 ],
 "metadata": {
  "kernelspec": {
   "display_name": "Python 3",
   "language": "python",
   "name": "python3"
  },
  "language_info": {
   "codemirror_mode": {
    "name": "ipython",
    "version": 3
   },
   "file_extension": ".py",
   "mimetype": "text/x-python",
   "name": "python",
   "nbconvert_exporter": "python",
   "pygments_lexer": "ipython3",
   "version": "3.6.7"
  }
 },
 "nbformat": 4,
 "nbformat_minor": 5
}
